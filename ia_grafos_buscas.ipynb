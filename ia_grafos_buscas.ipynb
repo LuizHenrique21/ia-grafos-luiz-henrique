{
  "nbformat": 4,
  "nbformat_minor": 0,
  "metadata": {
    "colab": {
      "provenance": [],
      "include_colab_link": true
    },
    "kernelspec": {
      "name": "python3",
      "display_name": "Python 3"
    },
    "language_info": {
      "name": "python"
    }
  },
  "cells": [
    {
      "cell_type": "markdown",
      "metadata": {
        "id": "view-in-github",
        "colab_type": "text"
      },
      "source": [
        "<a href=\"https://colab.research.google.com/github/LuizHenrique21/ia-grafos-luiz-henrique/blob/main/ia_grafos_buscas.ipynb\" target=\"_parent\"><img src=\"https://colab.research.google.com/assets/colab-badge.svg\" alt=\"Open In Colab\"/></a>"
      ]
    },
    {
      "cell_type": "markdown",
      "source": [
        "**Lista de Exercícios N2**\n",
        "\n",
        "Tema: Grafos e Algoritmos de Busca (Dijkstra, A*, em-ordem, pré-ordem e pós-ordem)\n",
        "\n",
        "Disciplina: Inteligência Artificial\\\n",
        "Ambiente: Google Colab\\\n",
        "Entrega: via repositório individual no GitHub"
      ],
      "metadata": {
        "id": "51-tDsdpFH9B"
      }
    },
    {
      "cell_type": "markdown",
      "source": [
        "**Nome completo:** Luiz Henrique Bezerra Almeida\\\n",
        "**Matricula:** 2401905\\\n",
        "**Turma:** ENGCO221N01"
      ],
      "metadata": {
        "id": "-02FfQpMKNEb"
      }
    },
    {
      "cell_type": "markdown",
      "source": [
        "**Regras Gerais**\n",
        "\n",
        "- Trabalho individual.\n",
        "\n",
        "- Linguagem: Python 3 (Google Colab).\n",
        "\n",
        "- É permitido usar: heapq, numpy, matplotlib, dataclasses.\n",
        "\n",
        "- Proibido usar funções prontas de shortest path (networkx.shortest_path, scipy.sparse.csgraph.dijkstra, etc.).\n",
        "\n",
        "O Notebook (.ipynb) deve conter:\n",
        "\n",
        "- Identificação (nome, turma, link do GitHub)\n",
        "\n",
        "- Código, testes e reflexões\n",
        "\n",
        "- Seções organizadas conforme o roteiro abaixo."
      ],
      "metadata": {
        "id": "iJ41FayHF8rV"
      }
    },
    {
      "cell_type": "markdown",
      "source": [
        "**Parte A — Dijkstra (Caminho Mínimo em Grafos Ponderados Positivos)**\n",
        "\n",
        "> Imagine que você está projetando um sistema de navegação para ambulâncias em uma cidade. Cada interseção é representada como um nó e cada rua como uma aresta ponderada com o tempo médio de deslocamento. Você precisa encontrar a rota mais rápida entre o hospital e o local de atendimento, garantindo que o caminho tenha custo mínimo e seja correto mesmo em grandes redes urbanas.\n",
        "\n",
        "**Atividades**\n",
        "\n",
        "- Implemente o algoritmo de Dijkstra, retornando o custo mínimo (dist) e os predecessores (parent).\n",
        "\n",
        "- Crie uma função reconstruct_path(parent, target) que reconstrua o trajeto.\n",
        "\n",
        "Teste o algoritmo em um grafo de exemplo.\n",
        "\n",
        "**Explique (Questões Discursivas):**\n",
        "\n",
        "1. Por que Dijkstra exige arestas não negativas?\n",
        "\n",
        "2. Qual a complexidade do algoritmo com lista de adjacência e heapq?\n",
        "\n",
        "💡 Dica: Compare seu resultado com um mapa simples — se mudar o peso de uma rua, a rota muda?"
      ],
      "metadata": {
        "id": "XKYf0iFXGaV1"
      }
    },
    {
      "cell_type": "code",
      "source": [
        "import heapq\n",
        "\n",
        "def dijkstra(grafo, inicio):\n",
        "    dist = {no: float('inf') for no in grafo}\n",
        "    parent = {no: None for no in grafo}\n",
        "\n",
        "    dist[inicio] = 0\n",
        "    heap = [(0, inicio)]\n",
        "\n",
        "    while heap:\n",
        "        dist_atual, no_atual = heapq.heappop(heap)\n",
        "\n",
        "        if dist_atual > dist[no_atual]:\n",
        "            continue\n",
        "\n",
        "        for vizinho, peso in grafo[no_atual]:\n",
        "            nova_dist = dist_atual + peso\n",
        "            if nova_dist < dist[vizinho]:\n",
        "                dist[vizinho] = nova_dist\n",
        "                parent[vizinho] = no_atual\n",
        "                heapq.heappush(heap, (nova_dist, vizinho))\n",
        "\n",
        "    return dist, parent\n"
      ],
      "metadata": {
        "id": "_7qVHP30FFF5"
      },
      "execution_count": null,
      "outputs": []
    },
    {
      "cell_type": "code",
      "source": [
        "def reconstruct_path(parent, target):\n",
        "    caminho = []\n",
        "    atual = target\n",
        "    while atual is not None:\n",
        "        caminho.append(atual)\n",
        "        atual = parent[atual]\n",
        "    caminho.reverse()\n",
        "    return caminho\n"
      ],
      "metadata": {
        "id": "ZjH8_sfneRd4"
      },
      "execution_count": null,
      "outputs": []
    },
    {
      "cell_type": "code",
      "source": [
        "grafo = {\n",
        "    'Hospital': [('A', 4), ('B', 2)],\n",
        "    'A': [('Hospital', 4), ('C', 3)],\n",
        "    'B': [('Hospital', 2), ('C', 1), ('D', 7)],\n",
        "    'C': [('A', 3), ('B', 1), ('D', 2), ('Local', 5)],\n",
        "    'D': [('B', 7), ('C', 2), ('Local', 1)],\n",
        "    'Local': [('C', 5), ('D', 1)]\n",
        "}\n",
        "\n",
        "dist, parent = dijkstra(grafo, 'Hospital')\n",
        "caminho = reconstruct_path(parent, 'Local')\n",
        "\n",
        "print(\"Custo mínimo:\", dist['Local'])\n",
        "print(\"Caminho mais rápido:\", caminho)\n"
      ],
      "metadata": {
        "colab": {
          "base_uri": "https://localhost:8080/"
        },
        "id": "mQQFZ8q8eUFP",
        "outputId": "edf164bb-b28c-4b10-e11f-68f88406bfd7"
      },
      "execution_count": null,
      "outputs": [
        {
          "output_type": "stream",
          "name": "stdout",
          "text": [
            "Custo mínimo: 6\n",
            "Caminho mais rápido: ['Hospital', 'B', 'C', 'D', 'Local']\n"
          ]
        }
      ]
    },
    {
      "cell_type": "markdown",
      "source": [
        "**Por que Dijkstra exige arestas não negativas?**\\\n",
        "Porque o algoritmo assume que, ao visitar um nó com a menor distância acumulada, essa distância é definitiva. Se houvesse arestas negativas, poderia existir um caminho mais curto que aparece depois, quebrando essa propriedade e causando erros na atualização das distâncias.\n",
        "\n",
        "\n",
        "**Qual a complexidade do algoritmo com lista de adjacência e heapq?**\\\n",
        "Cada vértice é inserido no heap pelo menos uma vez e removido uma vez: O(V log V).\n",
        "\n",
        "Cada aresta é examinada no máximo uma vez, com operações de atualização no heap: O(E log V).\n",
        "\n",
        "Portanto, a complexidade total é O((V + E) log V), onde V é o número de vértices e E o número de arestas."
      ],
      "metadata": {
        "id": "bdpa_uNjekYg"
      }
    },
    {
      "cell_type": "markdown",
      "source": [
        "**Parte B — A-Star (Busca Informada com Heurística Admissível)**\n",
        "\n",
        "> Agora, considere um robô autônomo que deve se deslocar por um labirinto 2D, evitando obstáculos e chegando ao destino no menor tempo possível.\n",
        "Diferente do Dijkstra, o robô pode usar uma heurística (como a distância ao alvo) para priorizar rotas promissoras, economizando tempo de busca.\n",
        "\n",
        "**Atividades**\n",
        "\n",
        "1. Gere um grid 20x20 com ~15% de obstáculos aleatórios.\n",
        "\n",
        "2. Implemente a função heuristic(a, b) (distância Manhattan).\n",
        "\n",
        "3. Desenvolva o algoritmo a_star(grid, start, goal, h) e teste-o.\n",
        "\n",
        "**Explique (Questões Discursivas):**\n",
        "\n",
        "1. A* vs Dijkstra: qual expande menos nós?\n",
        "\n",
        "2. Por que a heurística Manhattan é admissível nesse caso?\n",
        "\n",
        "💡 Cenário real: O A* é amplamente usado em robôs aspiradores, drones e jogos. Seu desafio é aplicar o mesmo raciocínio."
      ],
      "metadata": {
        "id": "9vCEA95GGx_6"
      }
    },
    {
      "cell_type": "code",
      "source": [
        "import random\n",
        "\n",
        "def criar_grid(tamanho=20, porcentagem_obstaculos=0.15):\n",
        "    grid = [[0 for _ in range(tamanho)] for _ in range(tamanho)]\n",
        "    total_celulas = tamanho * tamanho\n",
        "    num_obstaculos = int(total_celulas * porcentagem_obstaculos)\n",
        "\n",
        "    obstáculos_pos = set()\n",
        "    while len(obstáculos_pos) < num_obstaculos:\n",
        "        x = random.randint(0, tamanho - 1)\n",
        "        y = random.randint(0, tamanho - 1)\n",
        "        obstáculos_pos.add((x, y))\n",
        "\n",
        "    for (x, y) in obstáculos_pos:\n",
        "        grid[x][y] = 1\n",
        "\n",
        "    return grid\n"
      ],
      "metadata": {
        "id": "XMIxqCl3FEt6"
      },
      "execution_count": null,
      "outputs": []
    },
    {
      "cell_type": "code",
      "source": [
        "def heuristic(a, b):\n",
        "    return abs(a[0] - b[0]) + abs(a[1] - b[1])\n"
      ],
      "metadata": {
        "id": "GzcxywCFgF3y"
      },
      "execution_count": null,
      "outputs": []
    },
    {
      "cell_type": "code",
      "source": [
        "import heapq\n",
        "\n",
        "def a_star(grid, start, goal, h):\n",
        "    tamanho = len(grid)\n",
        "    open_set = []\n",
        "    heapq.heappush(open_set, (0 + h(start, goal), 0, start))\n",
        "\n",
        "    came_from = {}\n",
        "    g_score = {start: 0}\n",
        "\n",
        "    movimentos = [(0,1),(1,0),(-1,0),(0,-1)]\n",
        "\n",
        "    while open_set:\n",
        "        f_atual, g_atual, atual = heapq.heappop(open_set)\n",
        "\n",
        "        if atual == goal:\n",
        "            caminho = []\n",
        "            while atual in came_from:\n",
        "                caminho.append(atual)\n",
        "                atual = came_from[atual]\n",
        "            caminho.append(start)\n",
        "            caminho.reverse()\n",
        "            return caminho\n",
        "\n",
        "        for dx, dy in movimentos:\n",
        "            vizinho = (atual[0] + dx, atual[1] + dy)\n",
        "\n",
        "            if 0 <= vizinho[0] < tamanho and 0 <= vizinho[1] < tamanho:\n",
        "                if grid[vizinho[0]][vizinho[1]] == 1:\n",
        "                    continue\n",
        "\n",
        "                tentative_g = g_atual + 1\n",
        "\n",
        "                if tentative_g < g_score.get(vizinho, float('inf')):\n",
        "                    came_from[vizinho] = atual\n",
        "                    g_score[vizinho] = tentative_g\n",
        "                    f_score = tentative_g + h(vizinho, goal)\n",
        "                    heapq.heappush(open_set, (f_score, tentative_g, vizinho))\n",
        "\n",
        "    return None\n"
      ],
      "metadata": {
        "id": "8wl963PXgMbJ"
      },
      "execution_count": null,
      "outputs": []
    },
    {
      "cell_type": "code",
      "source": [
        "def imprimir_grid(grid, caminho=None):\n",
        "    for i in range(len(grid)):\n",
        "        linha = \"\"\n",
        "        for j in range(len(grid[0])):\n",
        "            if caminho and (i, j) in caminho:\n",
        "                linha += \"🟢\"\n",
        "            elif grid[i][j] == 1:\n",
        "                linha += \"⬛\"\n",
        "            else:\n",
        "                linha += \"⬜\"\n",
        "        print(linha)\n",
        "\n",
        "grid = criar_grid()\n",
        "start = (0, 0)\n",
        "goal = (19, 19)\n",
        "\n",
        "caminho = a_star(grid, start, goal, heuristic)\n",
        "\n",
        "if caminho:\n",
        "    print(f\"Caminho encontrado com {len(caminho)} passos:\")\n",
        "    imprimir_grid(grid, caminho)\n",
        "else:\n",
        "    print(\"Nenhum caminho encontrado.\")\n"
      ],
      "metadata": {
        "colab": {
          "base_uri": "https://localhost:8080/"
        },
        "id": "EchlTzhggN2J",
        "outputId": "3100fc0d-0b6a-4414-b23e-da6cdbd690c0"
      },
      "execution_count": null,
      "outputs": [
        {
          "output_type": "stream",
          "name": "stdout",
          "text": [
            "Caminho encontrado com 39 passos:\n",
            "🟢🟢🟢🟢🟢🟢🟢🟢🟢🟢⬛⬜⬛⬜⬜⬜⬛⬜⬜⬜\n",
            "⬜⬜⬛⬜⬛⬜⬜⬜⬜🟢🟢🟢⬜⬜⬜⬛⬜⬜⬜⬜\n",
            "⬜⬜⬜⬜⬛⬜⬜⬜⬜⬜⬜🟢⬜⬜⬜⬜⬜⬛⬜⬛\n",
            "⬛⬜⬜⬜⬜⬜⬜⬜⬜⬛⬜🟢⬜⬛⬛⬜⬜⬜⬜⬜\n",
            "⬜⬜⬜⬜⬜⬜⬜⬜⬛⬜⬜🟢⬛⬜⬜⬜⬜⬜⬜⬜\n",
            "⬜⬜⬜⬜⬛⬜⬜⬛⬜⬜⬜🟢🟢🟢⬜⬜⬜⬜⬜⬜\n",
            "⬜⬛⬜⬜⬜⬜⬜⬜⬜⬜⬜⬜⬜🟢⬜⬜⬜⬜⬜⬜\n",
            "⬜⬜⬜⬜⬛⬛⬜⬜⬜⬜⬜⬛⬜🟢⬛⬛⬜⬜⬜⬜\n",
            "⬜⬜⬜⬜⬜⬜⬜⬜⬛⬜⬜⬜⬜🟢🟢🟢⬜⬜⬜⬜\n",
            "⬜⬜⬜⬜⬜⬜⬜⬜⬜⬛⬜⬛⬜⬜⬜🟢⬜⬜⬜⬜\n",
            "⬜⬜⬜⬜⬜⬜⬜⬜⬜⬜⬜⬜⬜⬛⬜🟢⬛⬜⬜⬜\n",
            "⬜⬛⬜⬜⬜⬛⬜⬜⬜⬜⬜⬛⬜⬜⬜🟢🟢⬛⬛⬜\n",
            "⬜⬜⬛⬛⬜⬛⬜⬜⬜⬜⬜⬛⬜⬜⬜⬜🟢⬛⬜⬜\n",
            "⬜⬜⬜⬜⬜⬛⬜⬜⬜⬜⬜⬜⬜⬜⬜⬜🟢⬛⬜⬛\n",
            "⬜⬜⬜⬜⬛⬛⬜⬜⬜⬜⬜⬜⬜⬜⬜⬜🟢🟢⬜⬜\n",
            "⬜⬜⬜⬜⬜⬜⬛⬜⬛⬜⬜⬜⬛⬜⬜⬜⬛🟢⬛⬜\n",
            "⬜⬛⬛⬜⬜⬜⬜⬛⬜⬜⬜⬜⬜⬜⬛⬜⬜🟢🟢⬛\n",
            "⬜⬜⬜⬜⬜⬛⬜⬜⬜⬜⬜⬜⬜⬜⬜⬜⬜⬛🟢🟢\n",
            "⬜⬜⬛⬜⬜⬜⬜⬜⬜⬜⬜⬜⬛⬜⬜⬜⬜⬜⬜🟢\n",
            "⬜⬛⬜⬜⬜⬜⬜⬜⬜⬜⬛⬜⬛⬜⬜⬜⬜⬜⬜🟢\n"
          ]
        }
      ]
    },
    {
      "cell_type": "markdown",
      "source": [
        "**A * vs Dijkstra: qual expande menos nós?**\\\n",
        "A* expande menos nós porque usa a heurística para priorizar os nós mais promissores (mais perto do objetivo). Dijkstra é uma busca cega, explorando uniformemente, enquanto o A* é uma busca informada.\n",
        "\n",
        "**Por que a heurística Manhattan é admissível nesse caso?**\n",
        "\n",
        "Porque a distância Manhattan nunca superestima o custo real para chegar ao destino num grid onde só se pode mover para cima, baixo, esquerda ou direita, sem atravessar obstáculos. Ou seja, é sempre menor ou igual ao custo real, garantindo que A* encontre o caminho ótimo."
      ],
      "metadata": {
        "id": "c9v2AN4BgkO5"
      }
    },
    {
      "cell_type": "markdown",
      "source": [
        "**Parte C — Árvores Binárias e Percursos (DFS em-ordem, pré-ordem e pós-ordem)**\n",
        "\n",
        "> Você está desenvolvendo um sistema de recomendação que organiza produtos em uma árvore binária de busca (BST), conforme o preço. Cada nó é um produto e a travessia da árvore pode ser usada para: 1. Ordenar produtos (em-ordem); 2. Clonar a estrutura (pré-ordem); 3. Calcular totais ou liberar memória (pós-ordem);\n",
        "\n",
        "**Atividades**\n",
        "\n",
        "1. Crie uma BST com os valores: [50, 30, 70, 20, 40, 60, 80, 35, 45].\n",
        "\n",
        "Implemente os percursos:\n",
        "\n",
        "1. in_order(root)\n",
        "\n",
        "2. pre_order(root)\n",
        "\n",
        "3. post_order(root)\n",
        "\n",
        "Teste se as saídas correspondem às travessias esperadas.\n",
        "\n",
        "**Explique (Questões Discursivas):**\n",
        "\n",
        "1. Em que situação cada tipo de percurso é mais indicado?"
      ],
      "metadata": {
        "id": "qJ1Rbf22IASJ"
      }
    },
    {
      "cell_type": "code",
      "source": [
        "class Node:\n",
        "    def __init__(self, valor):\n",
        "        self.valor = valor\n",
        "        self.esq = None\n",
        "        self.dir = None\n",
        "\n",
        "def inserir(root, valor):\n",
        "    if root is None:\n",
        "        return Node(valor)\n",
        "    if valor < root.valor:\n",
        "        root.esq = inserir(root.esq, valor)\n",
        "    else:\n",
        "        root.dir = inserir(root.dir, valor)\n",
        "    return root\n",
        "\n",
        "valores = [50, 30, 70, 20, 40, 60, 80, 35, 45]\n",
        "root = None\n",
        "for v in valores:\n",
        "    root = inserir(root, v)\n",
        "\n",
        "def in_order(root):\n",
        "    if root is None:\n",
        "        return []\n",
        "    return in_order(root.esq) + [root.valor] + in_order(root.dir)\n",
        "\n",
        "def pre_order(root):\n",
        "    if root is None:\n",
        "        return []\n",
        "    return [root.valor] + pre_order(root.esq) + pre_order(root.dir)\n",
        "\n",
        "def post_order(root):\n",
        "    if root is None:\n",
        "        return []\n",
        "    return post_order(root.esq) + post_order(root.dir) + [root.valor]\n",
        "\n",
        "print(\"In-order:\", in_order(root))\n",
        "print(\"Pre-order:\", pre_order(root))\n",
        "print(\"Post-order:\", post_order(root))\n"
      ],
      "metadata": {
        "id": "jxol5GNCIrM9",
        "colab": {
          "base_uri": "https://localhost:8080/"
        },
        "outputId": "e6ca2d56-5c36-4f24-e866-95c0810272cd"
      },
      "execution_count": null,
      "outputs": [
        {
          "output_type": "stream",
          "name": "stdout",
          "text": [
            "In-order: [20, 30, 35, 40, 45, 50, 60, 70, 80]\n",
            "Pre-order: [50, 30, 20, 40, 35, 45, 70, 60, 80]\n",
            "Post-order: [20, 35, 45, 40, 30, 60, 80, 70, 50]\n"
          ]
        }
      ]
    },
    {
      "cell_type": "markdown",
      "source": [
        "**Em que situação cada tipo de percurso é mais indicado?**\n",
        "\n",
        "In-order: ideal para ordenar elementos em uma BST, pois visita os nós em ordem crescente.\n",
        "\n",
        "Pre-order: útil para clonar ou serializar a árvore, pois visita primeiro a raiz e depois os filhos, preservando a estrutura.\n",
        "\n",
        "Post-order: indicado para operações que dependem da visita dos filhos antes do pai, como liberação de memória (em linguagens que requerem isso) ou para calcular totais agregados de subárvores."
      ],
      "metadata": {
        "id": "S4D_xW6dhyEq"
      }
    },
    {
      "cell_type": "markdown",
      "source": [
        "**Parte D — Reflexões (Respostas Curtas)**\n",
        "\n",
        "Responda de forma argumentativa (5–10 linhas cada):\n",
        "\n",
        "1. Quando não é vantajoso usar A*, mesmo tendo uma heurística?\n",
        "\n",
        "2. Diferencie corretude e otimalidade nos algoritmos estudados.\n",
        "\n",
        "3. Dê um exemplo do mundo real onde cada tipo de percurso (em, pré, pós) é essencial.\n",
        "\n",
        "4. Como heurísticas inconsistentes podem afetar o resultado do A*?\n",
        "\n",
        "💬 Sugestão: use exemplos de mapas, jogos, sistemas de busca ou árvores sintáticas."
      ],
      "metadata": {
        "id": "5bocfC3rIuwu"
      }
    },
    {
      "cell_type": "markdown",
      "source": [
        "**Quando não é vantajoso usar A, mesmo tendo uma heurística?**\n",
        "\n",
        "No contexto de jogos de estratégia com mapas muito dinâmicos e ambientes que mudam rápido, usar A* pode não ser vantajoso se a heurística não acompanhar as alterações do terreno. Por exemplo, se a heurística estima a distância como se não houvesse obstáculos recentes (como barreiras móveis), o A* pode fazer muitos cálculos desnecessários e acabar lento. Também em mapas densos, onde há muitos caminhos similares, a heurística pode não diferenciar bem os nós, fazendo com que o A* explore quase tanto quanto o Dijkstra (busca uniforme). Além disso, em sistemas de busca em que calcular a heurística exige análise complexa (ex: árvores sintáticas gigantes em compiladores), o custo do cálculo pode superar o benefício.\n",
        "\n",
        "**Diferencie corretude e otimalidade nos algoritmos estudados.**\n",
        "\n",
        "Em sistemas de navegação por mapas, corretude garante que o algoritmo sempre vai encontrar um caminho válido entre dois pontos se ele existir, como um GPS mostrando uma rota possível. Já otimalidade significa que o caminho encontrado é o mais rápido ou curto possível, como o Google Maps indicando a rota de menor tempo. Por exemplo, o algoritmo A* com heurística admissível é correto e ótimo porque não só encontra um caminho, mas garante o melhor caminho. Em jogos, uma busca pode ser correta (não travar) mas não ótima se usar heurísticas ruins que resultam em rotas mais longas. Na análise de árvores sintáticas, a corretude garante que a árvore está bem formada, mas a otimalidade pode não ser relevante.\n",
        "\n",
        "**Dê um exemplo do mundo real onde cada tipo de percurso (em, pré, pós) é essencial.**\n",
        "\n",
        "Em-ordem: Em sistemas de mapas que organizam pontos de interesse por ordem de distância ou preço, percorrer uma árvore binária em ordem permite listar esses pontos em ordem crescente, como exibir hotéis do mais barato ao mais caro.\n",
        "\n",
        "Pré-ordem: Nos jogos, ao salvar o estado do mapa ou da árvore de decisões, o percurso pré-ordem é usado para serializar o estado, salvando primeiro a posição atual do jogador e depois suas possíveis ações, facilitando o carregamento posterior.\n",
        "\n",
        "Pós-ordem: Em sistemas de compiladores, ao interpretar expressões matemáticas em árvores sintáticas, o percurso pós-ordem avalia primeiro os operandos (nós filhos) antes de aplicar a operação do nó pai, garantindo que a expressão seja calculada corretamente.\n",
        "\n",
        "**Como heurísticas inconsistentes podem afetar o resultado do A?**\n",
        "\n",
        "Em jogos com mapas grandes, uma heurística inconsistente pode fazer o A* “voltar atrás” várias vezes ao encontrar novos obstáculos ou terrenos difíceis, fazendo o personagem recalcular o caminho repetidamente. Isso torna a busca menos eficiente, pois o algoritmo revisita nós várias vezes, atrasando a tomada de decisão. Em sistemas de busca de árvores sintáticas, heurísticas inconsistentes podem levar a reanálises de partes já processadas, aumentando o tempo de compilação sem melhorar o resultado final. Apesar disso, o A* continua encontrando o caminho ótimo, só que com custo computacional maior."
      ],
      "metadata": {
        "id": "8W_afmXGI6h3"
      }
    },
    {
      "cell_type": "markdown",
      "source": [],
      "metadata": {
        "id": "OnCGo1OJiprC"
      }
    },
    {
      "cell_type": "markdown",
      "source": [
        "**Entrega**\n",
        "\n",
        "Crie um repositório público chamado ia-grafos-seu-nome.\n",
        "\n",
        "Envie para o repositório o arquivo ia_grafos_buscas.ipynb.\n",
        "\n",
        "Submeta o link do repositório no ambiente da disciplina **Portal Digital Fametro.**."
      ],
      "metadata": {
        "id": "vyWiRE5TJEUf"
      }
    },
    {
      "cell_type": "markdown",
      "source": [
        "**Integridade Acadêmica**\n",
        "\n",
        "1. O trabalho é individual.\n",
        "2. Discussões conceituais são permitidas, mas o código deve ser inteiramente autoral.\n",
        "3. Verificações de similaridade serão aplicadas a todas as submissões.\n",
        "4. Busque e estude os algoritmos através de pesquisas na internet, livros, slides da disciplina."
      ],
      "metadata": {
        "id": "xP1stx7fJcCV"
      }
    }
  ]
}